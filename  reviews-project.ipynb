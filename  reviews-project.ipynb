{
 "cells": [
  {
   "cell_type": "code",
   "execution_count": 1,
   "id": "f9a33378",
   "metadata": {},
   "outputs": [],
   "source": [
    "\n",
    "# importing libraries\n",
    "\n",
    "import pandas as pd\n",
    "import numpy as np\n",
    "import re\n",
    "import nltk\n",
    "from nltk.corpus import stopwords\n",
    "from nltk.stem.porter import PorterStemmer\n",
    "from nltk.stem import WordNetLemmatizer\n",
    "import matplotlib.pyplot as plt\n",
    "import seaborn as sns\n",
    "import string"
   ]
  },
  {
   "cell_type": "code",
   "execution_count": 2,
   "id": "bf82ed61",
   "metadata": {},
   "outputs": [
    {
     "data": {
      "text/html": [
       "<div>\n",
       "<style scoped>\n",
       "    .dataframe tbody tr th:only-of-type {\n",
       "        vertical-align: middle;\n",
       "    }\n",
       "\n",
       "    .dataframe tbody tr th {\n",
       "        vertical-align: top;\n",
       "    }\n",
       "\n",
       "    .dataframe thead th {\n",
       "        text-align: right;\n",
       "    }\n",
       "</style>\n",
       "<table border=\"1\" class=\"dataframe\">\n",
       "  <thead>\n",
       "    <tr style=\"text-align: right;\">\n",
       "      <th></th>\n",
       "      <th>Full_Reviews</th>\n",
       "      <th>Ratings</th>\n",
       "    </tr>\n",
       "  </thead>\n",
       "  <tbody>\n",
       "    <tr>\n",
       "      <th>0</th>\n",
       "      <td>Everything works with very fast speed due to i...</td>\n",
       "      <td>5</td>\n",
       "    </tr>\n",
       "    <tr>\n",
       "      <th>1</th>\n",
       "      <td>Good morning.\\nIt is a nice product.\\nI used i...</td>\n",
       "      <td>5</td>\n",
       "    </tr>\n",
       "    <tr>\n",
       "      <th>2</th>\n",
       "      <td>Performance of the laptop is good. Login scree...</td>\n",
       "      <td>3</td>\n",
       "    </tr>\n",
       "    <tr>\n",
       "      <th>3</th>\n",
       "      <td>Flipkart just took 2 days to deliver the produ...</td>\n",
       "      <td>5</td>\n",
       "    </tr>\n",
       "    <tr>\n",
       "      <th>4</th>\n",
       "      <td>Got it 40k,and at that particular price it's j...</td>\n",
       "      <td>5</td>\n",
       "    </tr>\n",
       "    <tr>\n",
       "      <th>...</th>\n",
       "      <td>...</td>\n",
       "      <td>...</td>\n",
       "    </tr>\n",
       "    <tr>\n",
       "      <th>19183</th>\n",
       "      <td>Very poor</td>\n",
       "      <td>1</td>\n",
       "    </tr>\n",
       "    <tr>\n",
       "      <th>19184</th>\n",
       "      <td>It was nice to wear also the feature were amaz...</td>\n",
       "      <td>4</td>\n",
       "    </tr>\n",
       "    <tr>\n",
       "      <th>19185</th>\n",
       "      <td>Good prodect</td>\n",
       "      <td>3</td>\n",
       "    </tr>\n",
       "    <tr>\n",
       "      <th>19186</th>\n",
       "      <td>It was nice to wear also the feature were amaz...</td>\n",
       "      <td>4</td>\n",
       "    </tr>\n",
       "    <tr>\n",
       "      <th>19187</th>\n",
       "      <td>Good prodect</td>\n",
       "      <td>3</td>\n",
       "    </tr>\n",
       "  </tbody>\n",
       "</table>\n",
       "<p>19188 rows × 2 columns</p>\n",
       "</div>"
      ],
      "text/plain": [
       "                                            Full_Reviews  Ratings\n",
       "0      Everything works with very fast speed due to i...        5\n",
       "1      Good morning.\\nIt is a nice product.\\nI used i...        5\n",
       "2      Performance of the laptop is good. Login scree...        3\n",
       "3      Flipkart just took 2 days to deliver the produ...        5\n",
       "4      Got it 40k,and at that particular price it's j...        5\n",
       "...                                                  ...      ...\n",
       "19183                                          Very poor        1\n",
       "19184  It was nice to wear also the feature were amaz...        4\n",
       "19185                                       Good prodect        3\n",
       "19186  It was nice to wear also the feature were amaz...        4\n",
       "19187                                       Good prodect        3\n",
       "\n",
       "[19188 rows x 2 columns]"
      ]
     },
     "execution_count": 2,
     "metadata": {},
     "output_type": "execute_result"
    }
   ],
   "source": [
    "df =pd.read_csv('flipkartreviews.csv')#load dataset\n",
    "df=df.drop(\"Unnamed: 0\",axis=1)\n",
    "df"
   ]
  },
  {
   "cell_type": "code",
   "execution_count": 3,
   "id": "4da1d155",
   "metadata": {},
   "outputs": [
    {
     "name": "stdout",
     "output_type": "stream",
     "text": [
      "Shape = > (19188, 2)\n"
     ]
    }
   ],
   "source": [
    "\n",
    "print ('Shape = >',df.shape)#shape of dataset"
   ]
  },
  {
   "cell_type": "code",
   "execution_count": 4,
   "id": "7efb4d17",
   "metadata": {},
   "outputs": [
    {
     "data": {
      "text/plain": [
       "Full_Reviews    object\n",
       "Ratings          int64\n",
       "dtype: object"
      ]
     },
     "execution_count": 4,
     "metadata": {},
     "output_type": "execute_result"
    }
   ],
   "source": [
    "df.dtypes"
   ]
  },
  {
   "cell_type": "code",
   "execution_count": 5,
   "id": "02b15a3c",
   "metadata": {},
   "outputs": [
    {
     "data": {
      "text/plain": [
       "<AxesSubplot:>"
      ]
     },
     "execution_count": 5,
     "metadata": {},
     "output_type": "execute_result"
    },
    {
     "data": {
      "image/png": "[encoded data removed]",
      "text/plain": [
       "<Figure size 432x288 with 2 Axes>"
      ]
     },
     "metadata": {
      "needs_background": "light"
     },
     "output_type": "display_data"
    }
   ],
   "source": [
    "sns.heatmap(df.isnull())"
   ]
  },
  {
   "cell_type": "code",
   "execution_count": 6,
   "id": "895f43f2",
   "metadata": {},
   "outputs": [],
   "source": [
    "#No null values present in dataset"
   ]
  },
  {
   "cell_type": "code",
   "execution_count": 7,
   "id": "ba6fb409",
   "metadata": {},
   "outputs": [
    {
     "name": "stdout",
     "output_type": "stream",
     "text": [
      "Ratings counts \n",
      " 5    9639\n",
      "4    3800\n",
      "1    3246\n",
      "3    1570\n",
      "2     933\n",
      "Name: Ratings, dtype: int64\n"
     ]
    },
    {
     "name": "stderr",
     "output_type": "stream",
     "text": [
      "C:\\Users\\Lenovo\\anaconda3\\lib\\site-packages\\seaborn\\_decorators.py:36: FutureWarning: Pass the following variable as a keyword arg: x. From version 0.12, the only valid positional argument will be `data`, and passing other arguments without an explicit keyword will result in an error or misinterpretation.\n",
      "  warnings.warn(\n"
     ]
    },
    {
     "data": {
      "image/png": "[encoded data removed]",
      "text/plain": [
       "<Figure size 432x288 with 1 Axes>"
      ]
     },
     "metadata": {
      "needs_background": "light"
     },
     "output_type": "display_data"
    }
   ],
   "source": [
    "sns.countplot(df['Ratings'])\n",
    "print ('Ratings counts','\\n',df.Ratings.value_counts())"
   ]
  },
  {
   "cell_type": "code",
   "execution_count": 8,
   "id": "39cf10a0",
   "metadata": {
    "scrolled": true
   },
   "outputs": [],
   "source": [
    "#New column for Length of reviews\n",
    "df['len']= df['Full_Reviews'].str.len()"
   ]
  },
  {
   "cell_type": "code",
   "execution_count": 9,
   "id": "cb879bc6",
   "metadata": {},
   "outputs": [
    {
     "data": {
      "text/html": [
       "<div>\n",
       "<style scoped>\n",
       "    .dataframe tbody tr th:only-of-type {\n",
       "        vertical-align: middle;\n",
       "    }\n",
       "\n",
       "    .dataframe tbody tr th {\n",
       "        vertical-align: top;\n",
       "    }\n",
       "\n",
       "    .dataframe thead th {\n",
       "        text-align: right;\n",
       "    }\n",
       "</style>\n",
       "<table border=\"1\" class=\"dataframe\">\n",
       "  <thead>\n",
       "    <tr style=\"text-align: right;\">\n",
       "      <th></th>\n",
       "      <th>Full_Reviews</th>\n",
       "      <th>Ratings</th>\n",
       "      <th>len</th>\n",
       "    </tr>\n",
       "  </thead>\n",
       "  <tbody>\n",
       "    <tr>\n",
       "      <th>0</th>\n",
       "      <td>Everything works with very fast speed due to i...</td>\n",
       "      <td>5</td>\n",
       "      <td>300</td>\n",
       "    </tr>\n",
       "    <tr>\n",
       "      <th>1</th>\n",
       "      <td>Good morning.\\nIt is a nice product.\\nI used i...</td>\n",
       "      <td>5</td>\n",
       "      <td>332</td>\n",
       "    </tr>\n",
       "    <tr>\n",
       "      <th>2</th>\n",
       "      <td>Performance of the laptop is good. Login scree...</td>\n",
       "      <td>3</td>\n",
       "      <td>498</td>\n",
       "    </tr>\n",
       "    <tr>\n",
       "      <th>3</th>\n",
       "      <td>Flipkart just took 2 days to deliver the produ...</td>\n",
       "      <td>5</td>\n",
       "      <td>499</td>\n",
       "    </tr>\n",
       "    <tr>\n",
       "      <th>4</th>\n",
       "      <td>Got it 40k,and at that particular price it's j...</td>\n",
       "      <td>5</td>\n",
       "      <td>500</td>\n",
       "    </tr>\n",
       "    <tr>\n",
       "      <th>...</th>\n",
       "      <td>...</td>\n",
       "      <td>...</td>\n",
       "      <td>...</td>\n",
       "    </tr>\n",
       "    <tr>\n",
       "      <th>19183</th>\n",
       "      <td>Very poor</td>\n",
       "      <td>1</td>\n",
       "      <td>9</td>\n",
       "    </tr>\n",
       "    <tr>\n",
       "      <th>19184</th>\n",
       "      <td>It was nice to wear also the feature were amaz...</td>\n",
       "      <td>4</td>\n",
       "      <td>188</td>\n",
       "    </tr>\n",
       "    <tr>\n",
       "      <th>19185</th>\n",
       "      <td>Good prodect</td>\n",
       "      <td>3</td>\n",
       "      <td>12</td>\n",
       "    </tr>\n",
       "    <tr>\n",
       "      <th>19186</th>\n",
       "      <td>It was nice to wear also the feature were amaz...</td>\n",
       "      <td>4</td>\n",
       "      <td>188</td>\n",
       "    </tr>\n",
       "    <tr>\n",
       "      <th>19187</th>\n",
       "      <td>Good prodect</td>\n",
       "      <td>3</td>\n",
       "      <td>12</td>\n",
       "    </tr>\n",
       "  </tbody>\n",
       "</table>\n",
       "<p>19188 rows × 3 columns</p>\n",
       "</div>"
      ],
      "text/plain": [
       "                                            Full_Reviews  Ratings  len\n",
       "0      Everything works with very fast speed due to i...        5  300\n",
       "1      Good morning.\\nIt is a nice product.\\nI used i...        5  332\n",
       "2      Performance of the laptop is good. Login scree...        3  498\n",
       "3      Flipkart just took 2 days to deliver the produ...        5  499\n",
       "4      Got it 40k,and at that particular price it's j...        5  500\n",
       "...                                                  ...      ...  ...\n",
       "19183                                          Very poor        1    9\n",
       "19184  It was nice to wear also the feature were amaz...        4  188\n",
       "19185                                       Good prodect        3   12\n",
       "19186  It was nice to wear also the feature were amaz...        4  188\n",
       "19187                                       Good prodect        3   12\n",
       "\n",
       "[19188 rows x 3 columns]"
      ]
     },
     "execution_count": 9,
     "metadata": {},
     "output_type": "execute_result"
    }
   ],
   "source": [
    "df"
   ]
  },
  {
   "cell_type": "code",
   "execution_count": 10,
   "id": "e4f27fef",
   "metadata": {},
   "outputs": [],
   "source": [
    "#removing noise and repetation of data \n",
    "stoplist=['i',\n",
    " 'me',\n",
    " 'my',\n",
    " 'myself',\n",
    " 'we',\n",
    " 'our',\n",
    " 'ours',\n",
    " 'ourselves',\n",
    " 'you',\n",
    " \"you're\",\n",
    " \"you've\",\n",
    " \"you'll\",\n",
    " \"you'd\",\n",
    " 'your',\n",
    " 'yours',\n",
    " 'yourself',\n",
    " 'yourselves',\n",
    " 'he',\n",
    " 'him',\n",
    " 'his',\n",
    " 'himself',\n",
    " 'she',\n",
    " \"she's\",\n",
    " 'her',\n",
    " 'hers',\n",
    " 'herself',\n",
    " 'it',\n",
    " \"it's\",\n",
    " 'its',\n",
    " 'itself',\n",
    " 'they',\n",
    " 'them',\n",
    " 'their',\n",
    " 'theirs',\n",
    " 'themselves',\n",
    " 'what',\n",
    " 'which',\n",
    " 'who',\n",
    " 'whom',\n",
    " 'this',\n",
    " 'that',\n",
    " \"that'll\",\n",
    " 'these',\n",
    " 'those',\n",
    " 'am',\n",
    " 'is',\n",
    " 'are',\n",
    " 'was',\n",
    " 'were',\n",
    " 'be',\n",
    " 'been',\n",
    " 'being',\n",
    " 'have',\n",
    " 'has',\n",
    " 'had',\n",
    " 'having',\n",
    " 'do',\n",
    " 'does',\n",
    " 'did',\n",
    " 'doing',\n",
    " 'a',\n",
    " 'an',\n",
    " 'the',\n",
    " 'and',\n",
    " 'but',\n",
    " 'if',\n",
    " 'or',\n",
    " 'because',\n",
    " 'as',\n",
    " 'until',\n",
    " 'while',\n",
    " 'of',\n",
    " 'at',\n",
    " 'by',\n",
    " 'for',\n",
    " 'with',\n",
    " 'about',\n",
    " 'against',\n",
    " 'between',\n",
    " 'into',\n",
    " 'through',\n",
    " 'during',\n",
    " 'before',\n",
    " 'after',\n",
    " 'above',\n",
    " 'below',\n",
    " 'to',\n",
    " 'from',\n",
    " 'up',\n",
    " 'down',\n",
    " 'in',\n",
    " 'out',\n",
    " 'on',\n",
    " 'off',\n",
    " 'over',\n",
    " 'under',\n",
    " 'again',\n",
    " 'further',\n",
    " 'then',\n",
    " 'once',\n",
    " 'here',\n",
    " 'there',\n",
    " 'when',\n",
    " 'where',\n",
    " 'why',\n",
    " 'how',\n",
    " 'all',\n",
    " 'any',\n",
    " 'both',\n",
    " 'each',\n",
    " 'few',\n",
    " 'more',\n",
    " 'most',\n",
    " 'other',\n",
    " 'some',\n",
    " 'such',\n",
    " 'only',\n",
    " 'own',\n",
    " 'same',\n",
    " 'so',\n",
    " 'than',\n",
    " 'too',\n",
    " 'very',\n",
    " 's',\n",
    " 't',\n",
    " 'can',\n",
    " 'will',\n",
    " 'just',\n",
    " 'should',\n",
    " \"should've\",\n",
    " 'now',\n",
    " 'd',\n",
    " 'll',\n",
    " 'm',\n",
    " 'o',\n",
    " 're',\n",
    " 've',\n",
    " 'y']"
   ]
  },
  {
   "cell_type": "code",
   "execution_count": 11,
   "id": "f093c29f",
   "metadata": {},
   "outputs": [],
   "source": [
    "#add some unnecessary words which are present in reviews\n",
    "stoplist=stoplist+['due','laptop','product','flipkart','u', 'ü', 'ur', '4', '2', 'im', 'doin', 'ure','since','also','hp','windows','day','like','k','upto','later','today','hour','hours','kg','gb','ram','ssd','products','app','watch','phone','online','class','game','student','prodect']"
   ]
  },
  {
   "cell_type": "code",
   "execution_count": 12,
   "id": "ccd00d56",
   "metadata": {},
   "outputs": [
    {
     "data": {
      "text/plain": [
       "['i',\n",
       " 'me',\n",
       " 'my',\n",
       " 'myself',\n",
       " 'we',\n",
       " 'our',\n",
       " 'ours',\n",
       " 'ourselves',\n",
       " 'you',\n",
       " \"you're\",\n",
       " \"you've\",\n",
       " \"you'll\",\n",
       " \"you'd\",\n",
       " 'your',\n",
       " 'yours',\n",
       " 'yourself',\n",
       " 'yourselves',\n",
       " 'he',\n",
       " 'him',\n",
       " 'his',\n",
       " 'himself',\n",
       " 'she',\n",
       " \"she's\",\n",
       " 'her',\n",
       " 'hers',\n",
       " 'herself',\n",
       " 'it',\n",
       " \"it's\",\n",
       " 'its',\n",
       " 'itself',\n",
       " 'they',\n",
       " 'them',\n",
       " 'their',\n",
       " 'theirs',\n",
       " 'themselves',\n",
       " 'what',\n",
       " 'which',\n",
       " 'who',\n",
       " 'whom',\n",
       " 'this',\n",
       " 'that',\n",
       " \"that'll\",\n",
       " 'these',\n",
       " 'those',\n",
       " 'am',\n",
       " 'is',\n",
       " 'are',\n",
       " 'was',\n",
       " 'were',\n",
       " 'be',\n",
       " 'been',\n",
       " 'being',\n",
       " 'have',\n",
       " 'has',\n",
       " 'had',\n",
       " 'having',\n",
       " 'do',\n",
       " 'does',\n",
       " 'did',\n",
       " 'doing',\n",
       " 'a',\n",
       " 'an',\n",
       " 'the',\n",
       " 'and',\n",
       " 'but',\n",
       " 'if',\n",
       " 'or',\n",
       " 'because',\n",
       " 'as',\n",
       " 'until',\n",
       " 'while',\n",
       " 'of',\n",
       " 'at',\n",
       " 'by',\n",
       " 'for',\n",
       " 'with',\n",
       " 'about',\n",
       " 'against',\n",
       " 'between',\n",
       " 'into',\n",
       " 'through',\n",
       " 'during',\n",
       " 'before',\n",
       " 'after',\n",
       " 'above',\n",
       " 'below',\n",
       " 'to',\n",
       " 'from',\n",
       " 'up',\n",
       " 'down',\n",
       " 'in',\n",
       " 'out',\n",
       " 'on',\n",
       " 'off',\n",
       " 'over',\n",
       " 'under',\n",
       " 'again',\n",
       " 'further',\n",
       " 'then',\n",
       " 'once',\n",
       " 'here',\n",
       " 'there',\n",
       " 'when',\n",
       " 'where',\n",
       " 'why',\n",
       " 'how',\n",
       " 'all',\n",
       " 'any',\n",
       " 'both',\n",
       " 'each',\n",
       " 'few',\n",
       " 'more',\n",
       " 'most',\n",
       " 'other',\n",
       " 'some',\n",
       " 'such',\n",
       " 'only',\n",
       " 'own',\n",
       " 'same',\n",
       " 'so',\n",
       " 'than',\n",
       " 'too',\n",
       " 'very',\n",
       " 's',\n",
       " 't',\n",
       " 'can',\n",
       " 'will',\n",
       " 'just',\n",
       " 'should',\n",
       " \"should've\",\n",
       " 'now',\n",
       " 'd',\n",
       " 'll',\n",
       " 'm',\n",
       " 'o',\n",
       " 're',\n",
       " 've',\n",
       " 'y',\n",
       " 'due',\n",
       " 'laptop',\n",
       " 'product',\n",
       " 'flipkart',\n",
       " 'u',\n",
       " 'ü',\n",
       " 'ur',\n",
       " '4',\n",
       " '2',\n",
       " 'im',\n",
       " 'doin',\n",
       " 'ure',\n",
       " 'since',\n",
       " 'also',\n",
       " 'hp',\n",
       " 'windows',\n",
       " 'day',\n",
       " 'like',\n",
       " 'k',\n",
       " 'upto',\n",
       " 'later',\n",
       " 'today',\n",
       " 'hour',\n",
       " 'hours',\n",
       " 'kg',\n",
       " 'gb',\n",
       " 'ram',\n",
       " 'ssd',\n",
       " 'products',\n",
       " 'app',\n",
       " 'watch',\n",
       " 'phone',\n",
       " 'online',\n",
       " 'class',\n",
       " 'game',\n",
       " 'student',\n",
       " 'prodect']"
      ]
     },
     "execution_count": 12,
     "metadata": {},
     "output_type": "execute_result"
    }
   ],
   "source": [
    "stoplist"
   ]
  },
  {
   "cell_type": "code",
   "execution_count": 13,
   "id": "f0658ea0",
   "metadata": {},
   "outputs": [],
   "source": [
    "punc=string.punctuation#punctuations"
   ]
  },
  {
   "cell_type": "code",
   "execution_count": 14,
   "id": "a94a6388",
   "metadata": {},
   "outputs": [],
   "source": [
    "stoplist=set(stoplist)"
   ]
  },
  {
   "cell_type": "code",
   "execution_count": 15,
   "id": "9f5956ce",
   "metadata": {},
   "outputs": [],
   "source": [
    "ps = PorterStemmer()\n",
    "wordnet=WordNetLemmatizer()\n",
    "corpus = []#remove noise and punctuation\n",
    "for i in range(0,19188):\n",
    "    review = re.sub(\"[^a-zA-z\\s']\", ' ', df['Full_Reviews'][i])\n",
    "    review = review.lower()\n",
    "    review = review.split() \n",
    "    review = [wordnet.lemmatize(word) for word in review if word not in stoplist if word not in punc]\n",
    "    review = ' '.join(review)\n",
    "    corpus.append(review)"
   ]
  },
  {
   "cell_type": "code",
   "execution_count": 16,
   "id": "927f11cb",
   "metadata": {},
   "outputs": [],
   "source": [
    "df['Reviews']=corpus"
   ]
  },
  {
   "cell_type": "code",
   "execution_count": 17,
   "id": "a7a18e73",
   "metadata": {},
   "outputs": [],
   "source": [
    "#new length column after cleaning\n",
    "df['new_length']=df['Reviews'].str.len()"
   ]
  },
  {
   "cell_type": "code",
   "execution_count": 18,
   "id": "da9f363d",
   "metadata": {},
   "outputs": [
    {
     "data": {
      "text/html": [
       "<div>\n",
       "<style scoped>\n",
       "    .dataframe tbody tr th:only-of-type {\n",
       "        vertical-align: middle;\n",
       "    }\n",
       "\n",
       "    .dataframe tbody tr th {\n",
       "        vertical-align: top;\n",
       "    }\n",
       "\n",
       "    .dataframe thead th {\n",
       "        text-align: right;\n",
       "    }\n",
       "</style>\n",
       "<table border=\"1\" class=\"dataframe\">\n",
       "  <thead>\n",
       "    <tr style=\"text-align: right;\">\n",
       "      <th></th>\n",
       "      <th>Full_Reviews</th>\n",
       "      <th>Ratings</th>\n",
       "      <th>len</th>\n",
       "      <th>Reviews</th>\n",
       "      <th>new_length</th>\n",
       "    </tr>\n",
       "  </thead>\n",
       "  <tbody>\n",
       "    <tr>\n",
       "      <th>0</th>\n",
       "      <td>Everything works with very fast speed due to i...</td>\n",
       "      <td>5</td>\n",
       "      <td>300</td>\n",
       "      <td>everything work fast speed th gen nvme fhd dis...</td>\n",
       "      <td>188</td>\n",
       "    </tr>\n",
       "    <tr>\n",
       "      <th>1</th>\n",
       "      <td>Good morning.\\nIt is a nice product.\\nI used i...</td>\n",
       "      <td>5</td>\n",
       "      <td>332</td>\n",
       "      <td>good morning nice used strong muscular work bu...</td>\n",
       "      <td>178</td>\n",
       "    </tr>\n",
       "    <tr>\n",
       "      <th>2</th>\n",
       "      <td>Performance of the laptop is good. Login scree...</td>\n",
       "      <td>3</td>\n",
       "      <td>498</td>\n",
       "      <td>performance good login screen appears second p...</td>\n",
       "      <td>324</td>\n",
       "    </tr>\n",
       "    <tr>\n",
       "      <th>3</th>\n",
       "      <td>Flipkart just took 2 days to deliver the produ...</td>\n",
       "      <td>5</td>\n",
       "      <td>499</td>\n",
       "      <td>took day deliver used first impression battery...</td>\n",
       "      <td>243</td>\n",
       "    </tr>\n",
       "    <tr>\n",
       "      <th>4</th>\n",
       "      <td>Got it 40k,and at that particular price it's j...</td>\n",
       "      <td>5</td>\n",
       "      <td>500</td>\n",
       "      <td>got particular price amazing went onn many mod...</td>\n",
       "      <td>302</td>\n",
       "    </tr>\n",
       "    <tr>\n",
       "      <th>...</th>\n",
       "      <td>...</td>\n",
       "      <td>...</td>\n",
       "      <td>...</td>\n",
       "      <td>...</td>\n",
       "      <td>...</td>\n",
       "    </tr>\n",
       "    <tr>\n",
       "      <th>19183</th>\n",
       "      <td>Very poor</td>\n",
       "      <td>1</td>\n",
       "      <td>9</td>\n",
       "      <td>poor</td>\n",
       "      <td>4</td>\n",
       "    </tr>\n",
       "    <tr>\n",
       "      <th>19184</th>\n",
       "      <td>It was nice to wear also the feature were amaz...</td>\n",
       "      <td>4</td>\n",
       "      <td>188</td>\n",
       "      <td>nice wear feature amazing easy answer call thi...</td>\n",
       "      <td>94</td>\n",
       "    </tr>\n",
       "    <tr>\n",
       "      <th>19185</th>\n",
       "      <td>Good prodect</td>\n",
       "      <td>3</td>\n",
       "      <td>12</td>\n",
       "      <td>good</td>\n",
       "      <td>4</td>\n",
       "    </tr>\n",
       "    <tr>\n",
       "      <th>19186</th>\n",
       "      <td>It was nice to wear also the feature were amaz...</td>\n",
       "      <td>4</td>\n",
       "      <td>188</td>\n",
       "      <td>nice wear feature amazing easy answer call thi...</td>\n",
       "      <td>94</td>\n",
       "    </tr>\n",
       "    <tr>\n",
       "      <th>19187</th>\n",
       "      <td>Good prodect</td>\n",
       "      <td>3</td>\n",
       "      <td>12</td>\n",
       "      <td>good</td>\n",
       "      <td>4</td>\n",
       "    </tr>\n",
       "  </tbody>\n",
       "</table>\n",
       "<p>19188 rows × 5 columns</p>\n",
       "</div>"
      ],
      "text/plain": [
       "                                            Full_Reviews  Ratings  len  \\\n",
       "0      Everything works with very fast speed due to i...        5  300   \n",
       "1      Good morning.\\nIt is a nice product.\\nI used i...        5  332   \n",
       "2      Performance of the laptop is good. Login scree...        3  498   \n",
       "3      Flipkart just took 2 days to deliver the produ...        5  499   \n",
       "4      Got it 40k,and at that particular price it's j...        5  500   \n",
       "...                                                  ...      ...  ...   \n",
       "19183                                          Very poor        1    9   \n",
       "19184  It was nice to wear also the feature were amaz...        4  188   \n",
       "19185                                       Good prodect        3   12   \n",
       "19186  It was nice to wear also the feature were amaz...        4  188   \n",
       "19187                                       Good prodect        3   12   \n",
       "\n",
       "                                                 Reviews  new_length  \n",
       "0      everything work fast speed th gen nvme fhd dis...         188  \n",
       "1      good morning nice used strong muscular work bu...         178  \n",
       "2      performance good login screen appears second p...         324  \n",
       "3      took day deliver used first impression battery...         243  \n",
       "4      got particular price amazing went onn many mod...         302  \n",
       "...                                                  ...         ...  \n",
       "19183                                               poor           4  \n",
       "19184  nice wear feature amazing easy answer call thi...          94  \n",
       "19185                                               good           4  \n",
       "19186  nice wear feature amazing easy answer call thi...          94  \n",
       "19187                                               good           4  \n",
       "\n",
       "[19188 rows x 5 columns]"
      ]
     },
     "execution_count": 18,
     "metadata": {},
     "output_type": "execute_result"
    }
   ],
   "source": [
    "df"
   ]
  },
  {
   "cell_type": "code",
   "execution_count": 19,
   "id": "44af1dcd",
   "metadata": {},
   "outputs": [
    {
     "name": "stdout",
     "output_type": "stream",
     "text": [
      "Origian Length 1983850\n",
      "Clean Length 1234062\n"
     ]
    }
   ],
   "source": [
    "# Total length removal\n",
    "print ('Origian Length', df.len.sum())\n",
    "print ('Clean Length', df.new_length.sum())"
   ]
  },
  {
   "cell_type": "code",
   "execution_count": 20,
   "id": "1483d39a",
   "metadata": {},
   "outputs": [
    {
     "name": "stderr",
     "output_type": "stream",
     "text": [
      "C:\\Users\\Lenovo\\anaconda3\\lib\\site-packages\\seaborn\\distributions.py:2557: FutureWarning: `distplot` is a deprecated function and will be removed in a future version. Please adapt your code to use either `displot` (a figure-level function with similar flexibility) or `histplot` (an axes-level function for histograms).\n",
      "  warnings.warn(msg, FutureWarning)\n",
      "C:\\Users\\Lenovo\\anaconda3\\lib\\site-packages\\seaborn\\distributions.py:2557: FutureWarning: `distplot` is a deprecated function and will be removed in a future version. Please adapt your code to use either `displot` (a figure-level function with similar flexibility) or `histplot` (an axes-level function for histograms).\n",
      "  warnings.warn(msg, FutureWarning)\n",
      "C:\\Users\\Lenovo\\anaconda3\\lib\\site-packages\\seaborn\\distributions.py:2557: FutureWarning: `distplot` is a deprecated function and will be removed in a future version. Please adapt your code to use either `displot` (a figure-level function with similar flexibility) or `histplot` (an axes-level function for histograms).\n",
      "  warnings.warn(msg, FutureWarning)\n",
      "C:\\Users\\Lenovo\\anaconda3\\lib\\site-packages\\seaborn\\distributions.py:2557: FutureWarning: `distplot` is a deprecated function and will be removed in a future version. Please adapt your code to use either `displot` (a figure-level function with similar flexibility) or `histplot` (an axes-level function for histograms).\n",
      "  warnings.warn(msg, FutureWarning)\n",
      "C:\\Users\\Lenovo\\anaconda3\\lib\\site-packages\\seaborn\\distributions.py:2557: FutureWarning: `distplot` is a deprecated function and will be removed in a future version. Please adapt your code to use either `displot` (a figure-level function with similar flexibility) or `histplot` (an axes-level function for histograms).\n",
      "  warnings.warn(msg, FutureWarning)\n"
     ]
    },
    {
     "data": {
      "image/png": "[encoded data removed]",
      "text/plain": [
       "<Figure size 1080x864 with 6 Axes>"
      ]
     },
     "metadata": {
      "needs_background": "light"
     },
     "output_type": "display_data"
    }
   ],
   "source": [
    "# Message distribution BEFORE cleaning\n",
    "f,ax = plt.subplots(3,2,figsize = (15,12))\n",
    "\n",
    "sns.distplot(df[df['Ratings']==1]['len'],bins=20,ax=ax[0][0],label='for rating 1',color='r')\n",
    "\n",
    "ax[0][0].set_xlabel('len for rating 1')\n",
    "ax[0][0].legend()\n",
    "\n",
    "sns.distplot(df[df['Ratings']==2]['len'],bins=20,ax=ax[0][1],label='for rating 2')\n",
    "ax[0][1].set_xlabel('len for rating 2')\n",
    "ax[0][1].legend()\n",
    "\n",
    "sns.distplot(df[df['Ratings']==3]['len'],bins=20,ax=ax[1][0],label='for rating 3',color='b')\n",
    "\n",
    "ax[1][0].set_xlabel('len for rating 3')\n",
    "ax[1][0].legend()\n",
    "\n",
    "sns.distplot(df[df['Ratings']==4]['len'],bins=20,ax=ax[1][1],label='for rating 4')\n",
    "ax[1][1].set_xlabel('len for rating 4')\n",
    "ax[1][1].legend()\n",
    "sns.distplot(df[df['Ratings']==5]['len'],bins=20,ax=ax[2][0],label='for rating 5',color='r')\n",
    "\n",
    "ax[2][0].set_xlabel('len for rating 5')\n",
    "ax[2][0].legend()\n",
    "\n",
    "\n",
    "plt.show()"
   ]
  },
  {
   "cell_type": "code",
   "execution_count": 21,
   "id": "848d3b0c",
   "metadata": {},
   "outputs": [
    {
     "name": "stderr",
     "output_type": "stream",
     "text": [
      "C:\\Users\\Lenovo\\anaconda3\\lib\\site-packages\\seaborn\\distributions.py:2557: FutureWarning: `distplot` is a deprecated function and will be removed in a future version. Please adapt your code to use either `displot` (a figure-level function with similar flexibility) or `histplot` (an axes-level function for histograms).\n",
      "  warnings.warn(msg, FutureWarning)\n",
      "C:\\Users\\Lenovo\\anaconda3\\lib\\site-packages\\seaborn\\distributions.py:2557: FutureWarning: `distplot` is a deprecated function and will be removed in a future version. Please adapt your code to use either `displot` (a figure-level function with similar flexibility) or `histplot` (an axes-level function for histograms).\n",
      "  warnings.warn(msg, FutureWarning)\n",
      "C:\\Users\\Lenovo\\anaconda3\\lib\\site-packages\\seaborn\\distributions.py:2557: FutureWarning: `distplot` is a deprecated function and will be removed in a future version. Please adapt your code to use either `displot` (a figure-level function with similar flexibility) or `histplot` (an axes-level function for histograms).\n",
      "  warnings.warn(msg, FutureWarning)\n",
      "C:\\Users\\Lenovo\\anaconda3\\lib\\site-packages\\seaborn\\distributions.py:2557: FutureWarning: `distplot` is a deprecated function and will be removed in a future version. Please adapt your code to use either `displot` (a figure-level function with similar flexibility) or `histplot` (an axes-level function for histograms).\n",
      "  warnings.warn(msg, FutureWarning)\n",
      "C:\\Users\\Lenovo\\anaconda3\\lib\\site-packages\\seaborn\\distributions.py:2557: FutureWarning: `distplot` is a deprecated function and will be removed in a future version. Please adapt your code to use either `displot` (a figure-level function with similar flexibility) or `histplot` (an axes-level function for histograms).\n",
      "  warnings.warn(msg, FutureWarning)\n"
     ]
    },
    {
     "data": {
      "image/png": "[encoded data removed]",
      "text/plain": [
       "<Figure size 1440x864 with 6 Axes>"
      ]
     },
     "metadata": {
      "needs_background": "light"
     },
     "output_type": "display_data"
    }
   ],
   "source": [
    "# Message distribution BEFORE cleaning\n",
    "f,ax = plt.subplots(3,2,figsize = (20,12))\n",
    "\n",
    "sns.distplot(df[df['Ratings']==1]['new_length'],bins=20,ax=ax[0][0],label='for rating 1',color='r')\n",
    "\n",
    "ax[0][0].set_xlabel('len for rating 1')\n",
    "ax[0][0].legend()\n",
    "\n",
    "sns.distplot(df[df['Ratings']==2]['new_length'],bins=20,ax=ax[0][1],label='for rating 2')\n",
    "ax[0][1].set_xlabel('len for rating 2')\n",
    "ax[0][1].legend()\n",
    "\n",
    "sns.distplot(df[df['Ratings']==3]['new_length'],bins=20,ax=ax[1][0],label='for rating 3',color='b')\n",
    "\n",
    "ax[1][0].set_xlabel('len for rating 3')\n",
    "ax[1][0].legend()\n",
    "\n",
    "sns.distplot(df[df['Ratings']==4]['new_length'],bins=20,ax=ax[1][1],label='for rating 4')\n",
    "ax[1][1].set_xlabel('len for rating 4')\n",
    "ax[1][1].legend()\n",
    "sns.distplot(df[df['Ratings']==5]['new_length'],bins=20,ax=ax[2][0],label='for rating 5',color='r')\n",
    "\n",
    "ax[2][0].set_xlabel('len for rating 5')\n",
    "ax[2][0].legend()\n",
    "\n",
    "\n",
    "plt.show()"
   ]
  },
  {
   "cell_type": "code",
   "execution_count": 22,
   "id": "14c8ce66",
   "metadata": {},
   "outputs": [],
   "source": [
    "# Converting text to vector using tfidf model\n",
    "from sklearn.feature_extraction.text import TfidfVectorizer\n",
    "cv = TfidfVectorizer()\n",
    "X = cv.fit_transform(df['Reviews'])\n",
    "\n",
    "y=df['Ratings']"
   ]
  },
  {
   "cell_type": "code",
   "execution_count": 23,
   "id": "cefe4863",
   "metadata": {},
   "outputs": [
    {
     "name": "stdout",
     "output_type": "stream",
     "text": [
      "best accuracy score is 0.6675351745700886 for random_state 42\n"
     ]
    }
   ],
   "source": [
    "# Train Test Split\n",
    "from sklearn.metrics import accuracy_score,confusion_matrix,classification_report\n",
    "from sklearn.model_selection import train_test_split\n",
    "# Training model using Naive bayes classifier\n",
    "\n",
    "from sklearn.naive_bayes import MultinomialNB\n",
    "mn=MultinomialNB()\n",
    "maxacc=0\n",
    "maxrs=0\n",
    "for i in range(50):\n",
    "    x_train,x_test,y_train,y_test=train_test_split(X,y,test_size=0.1,random_state=i)\n",
    "    mn.fit(x_train,y_train)\n",
    "    y_pred=mn.predict(x_test)\n",
    "    acc=accuracy_score(y_test,y_pred)\n",
    "    if acc>maxacc:\n",
    "        maxacc=acc\n",
    "        maxrs=i\n",
    "print(\"best accuracy score is\",maxacc,\"for random_state\",maxrs)\n",
    "        \n",
    "        \n"
   ]
  },
  {
   "cell_type": "code",
   "execution_count": 1,
   "id": "ed649eb9",
   "metadata": {},
   "outputs": [],
   "source": [
    "#best random state is 42"
   ]
  },
  {
   "cell_type": "markdown",
   "id": "45ad1510",
   "metadata": {},
   "source": [
    "# Use Different Algorithms"
   ]
  },
  {
   "cell_type": "code",
   "execution_count": 24,
   "id": "ea18b4b2",
   "metadata": {},
   "outputs": [],
   "source": [
    "from sklearn.svm import SVC\n",
    "from sklearn.tree import DecisionTreeClassifier\n",
    "from sklearn.linear_model import LogisticRegression"
   ]
  },
  {
   "cell_type": "code",
   "execution_count": 25,
   "id": "4adb804d",
   "metadata": {},
   "outputs": [],
   "source": [
    "model=[SVC(),DecisionTreeClassifier(),LogisticRegression()]"
   ]
  },
  {
   "cell_type": "code",
   "execution_count": 26,
   "id": "73458618",
   "metadata": {},
   "outputs": [],
   "source": [
    "from sklearn.model_selection import train_test_split\n",
    "x_train,x_test,y_train,y_test=train_test_split(X,y,test_size=0.1,random_state=42)"
   ]
  },
  {
   "cell_type": "code",
   "execution_count": 27,
   "id": "666f8fe0",
   "metadata": {
    "scrolled": false
   },
   "outputs": [
    {
     "name": "stdout",
     "output_type": "stream",
     "text": [
      "SVC()\n",
      "0.7451797811360084\n",
      "              precision    recall  f1-score   support\n",
      "\n",
      "           1       0.74      0.93      0.82       325\n",
      "           2       0.89      0.18      0.30        95\n",
      "           3       0.59      0.21      0.32       135\n",
      "           4       0.76      0.32      0.45       370\n",
      "           5       0.75      0.97      0.84       994\n",
      "\n",
      "    accuracy                           0.75      1919\n",
      "   macro avg       0.75      0.52      0.55      1919\n",
      "weighted avg       0.75      0.75      0.70      1919\n",
      "\n",
      "[[302   1   1   2  19]\n",
      " [ 52  17   8   5  13]\n",
      " [ 33   0  29  13  60]\n",
      " [  9   0  10 119 232]\n",
      " [ 12   1   1  17 963]]\n",
      "DecisionTreeClassifier()\n",
      "0.7107868681605003\n",
      "              precision    recall  f1-score   support\n",
      "\n",
      "           1       0.75      0.84      0.79       325\n",
      "           2       0.53      0.32      0.39        95\n",
      "           3       0.41      0.33      0.36       135\n",
      "           4       0.57      0.39      0.46       370\n",
      "           5       0.76      0.88      0.82       994\n",
      "\n",
      "    accuracy                           0.71      1919\n",
      "   macro avg       0.61      0.55      0.57      1919\n",
      "weighted avg       0.69      0.71      0.69      1919\n",
      "\n",
      "[[273  12  14  10  16]\n",
      " [ 40  30   6   4  15]\n",
      " [ 23   5  44  17  46]\n",
      " [  9   5  21 143 192]\n",
      " [ 17   5  23  75 874]]\n",
      "LogisticRegression()\n",
      "0.7076602397081814\n",
      "              precision    recall  f1-score   support\n",
      "\n",
      "           1       0.71      0.90      0.79       325\n",
      "           2       0.64      0.09      0.17        95\n",
      "           3       0.50      0.16      0.25       135\n",
      "           4       0.61      0.23      0.34       370\n",
      "           5       0.72      0.95      0.82       994\n",
      "\n",
      "    accuracy                           0.71      1919\n",
      "   macro avg       0.64      0.47      0.47      1919\n",
      "weighted avg       0.68      0.71      0.65      1919\n",
      "\n",
      "[[292   3   2   5  23]\n",
      " [ 56   9   9   5  16]\n",
      " [ 39   0  22  16  58]\n",
      " [ 11   0   9  86 264]\n",
      " [ 13   2   2  28 949]]\n"
     ]
    },
    {
     "name": "stderr",
     "output_type": "stream",
     "text": [
      "C:\\Users\\Lenovo\\anaconda3\\lib\\site-packages\\sklearn\\linear_model\\_logistic.py:763: ConvergenceWarning: lbfgs failed to converge (status=1):\n",
      "STOP: TOTAL NO. of ITERATIONS REACHED LIMIT.\n",
      "\n",
      "Increase the number of iterations (max_iter) or scale the data as shown in:\n",
      "    https://scikit-learn.org/stable/modules/preprocessing.html\n",
      "Please also refer to the documentation for alternative solver options:\n",
      "    https://scikit-learn.org/stable/modules/linear_model.html#logistic-regression\n",
      "  n_iter_i = _check_optimize_result(\n"
     ]
    }
   ],
   "source": [
    "from sklearn.metrics import accuracy_score,confusion_matrix,classification_report\n",
    "for i in model:\n",
    "    i.fit(x_train,y_train)\n",
    "    y_pred=i.predict(x_test)\n",
    "    print(i)\n",
    "    print(accuracy_score(y_test,y_pred))\n",
    "    print(classification_report(y_test,y_pred))\n",
    "    print(confusion_matrix(y_test,y_pred))\n",
    "    "
   ]
  },
  {
   "cell_type": "code",
   "execution_count": 28,
   "id": "723c1bd6",
   "metadata": {},
   "outputs": [],
   "source": [
    "from sklearn.naive_bayes import MultinomialNB\n",
    "from sklearn.ensemble import RandomForestClassifier\n",
    "from sklearn.ensemble import AdaBoostClassifier\n",
    "from sklearn.ensemble import GradientBoostingClassifier\n",
    "from xgboost import XGBClassifier"
   ]
  },
  {
   "cell_type": "code",
   "execution_count": 29,
   "id": "2ccc0b2d",
   "metadata": {},
   "outputs": [
    {
     "name": "stdout",
     "output_type": "stream",
     "text": [
      "0.7550807712350183\n",
      "              precision    recall  f1-score   support\n",
      "\n",
      "           1       0.76      0.91      0.83       325\n",
      "           2       0.85      0.29      0.44        95\n",
      "           3       0.67      0.29      0.40       135\n",
      "           4       0.80      0.34      0.48       370\n",
      "           5       0.75      0.97      0.84       994\n",
      "\n",
      "    accuracy                           0.76      1919\n",
      "   macro avg       0.77      0.56      0.60      1919\n",
      "weighted avg       0.76      0.76      0.72      1919\n",
      "\n",
      "[[296   2   3   4  20]\n",
      " [ 46  28   5   3  13]\n",
      " [ 32   3  39   8  53]\n",
      " [  4   0   7 126 233]\n",
      " [ 13   0   4  17 960]]\n"
     ]
    }
   ],
   "source": [
    "rf=RandomForestClassifier()\n",
    "rf.fit(x_train,y_train)\n",
    "y_pred=rf.predict(x_test)\n",
    "print(accuracy_score(y_test,y_pred))\n",
    "print(classification_report(y_test,y_pred))\n",
    "print(confusion_matrix(y_test,y_pred))"
   ]
  },
  {
   "cell_type": "code",
   "execution_count": 30,
   "id": "8b031400",
   "metadata": {},
   "outputs": [
    {
     "name": "stdout",
     "output_type": "stream",
     "text": [
      "0.6414799374674309\n",
      "              precision    recall  f1-score   support\n",
      "\n",
      "           1       0.69      0.74      0.71       325\n",
      "           2       0.09      0.01      0.02        95\n",
      "           3       0.32      0.10      0.15       135\n",
      "           4       0.44      0.12      0.19       370\n",
      "           5       0.66      0.94      0.77       994\n",
      "\n",
      "    accuracy                           0.64      1919\n",
      "   macro avg       0.44      0.38      0.37      1919\n",
      "weighted avg       0.57      0.64      0.57      1919\n",
      "\n",
      "[[239   5   8   3  70]\n",
      " [ 56   1   5   1  32]\n",
      " [ 30   2  13  10  80]\n",
      " [ 11   1  11  45 302]\n",
      " [ 12   2   4  43 933]]\n"
     ]
    }
   ],
   "source": [
    "ad=AdaBoostClassifier()\n",
    "ad.fit(x_train,y_train)\n",
    "y_pred=ad.predict(x_test)\n",
    "print(accuracy_score(y_test,y_pred))\n",
    "print(classification_report(y_test,y_pred))\n",
    "print(confusion_matrix(y_test,y_pred))"
   ]
  },
  {
   "cell_type": "code",
   "execution_count": 31,
   "id": "eddc90b3",
   "metadata": {},
   "outputs": [
    {
     "name": "stdout",
     "output_type": "stream",
     "text": [
      "0.6732673267326733\n",
      "              precision    recall  f1-score   support\n",
      "\n",
      "           1       0.71      0.76      0.73       325\n",
      "           2       0.53      0.08      0.15        95\n",
      "           3       0.46      0.08      0.14       135\n",
      "           4       0.53      0.19      0.28       370\n",
      "           5       0.68      0.96      0.80       994\n",
      "\n",
      "    accuracy                           0.67      1919\n",
      "   macro avg       0.58      0.41      0.42      1919\n",
      "weighted avg       0.64      0.67      0.61      1919\n",
      "\n",
      "[[246   3   4   9  63]\n",
      " [ 51   8   1   8  27]\n",
      " [ 30   2  11  20  72]\n",
      " [ 11   1   6  69 283]\n",
      " [ 10   1   2  23 958]]\n"
     ]
    }
   ],
   "source": [
    "gb=GradientBoostingClassifier()\n",
    "gb.fit(x_train,y_train)\n",
    "y_pred=gb.predict(x_test)\n",
    "print(accuracy_score(y_test,y_pred))\n",
    "print(classification_report(y_test,y_pred))\n",
    "print(confusion_matrix(y_test,y_pred))"
   ]
  },
  {
   "cell_type": "code",
   "execution_count": 34,
   "id": "958317d6",
   "metadata": {},
   "outputs": [
    {
     "name": "stderr",
     "output_type": "stream",
     "text": [
      "C:\\Users\\Lenovo\\anaconda3\\lib\\site-packages\\xgboost\\sklearn.py:1146: UserWarning: The use of label encoder in XGBClassifier is deprecated and will be removed in a future release. To remove this warning, do the following: 1) Pass option use_label_encoder=False when constructing XGBClassifier object; and 2) Encode your labels (y) as integers starting with 0, i.e. 0, 1, 2, ..., [num_class - 1].\n",
      "  warnings.warn(label_encoder_deprecation_msg, UserWarning)\n"
     ]
    },
    {
     "name": "stdout",
     "output_type": "stream",
     "text": [
      "[10:18:50] WARNING: C:/Users/Administrator/workspace/xgboost-win64_release_1.4.0/src/learner.cc:1095: Starting in XGBoost 1.3.0, the default evaluation metric used with the objective 'multi:softprob' was changed from 'merror' to 'mlogloss'. Explicitly set eval_metric if you'd like to restore the old behavior.\n",
      "0.7149557060969255\n",
      "              precision    recall  f1-score   support\n",
      "\n",
      "           1       0.72      0.84      0.78       325\n",
      "           2       0.58      0.12      0.19        95\n",
      "           3       0.62      0.19      0.29       135\n",
      "           4       0.69      0.29      0.41       370\n",
      "           5       0.72      0.96      0.82       994\n",
      "\n",
      "    accuracy                           0.71      1919\n",
      "   macro avg       0.67      0.48      0.50      1919\n",
      "weighted avg       0.70      0.71      0.67      1919\n",
      "\n",
      "[[273   6   2   4  40]\n",
      " [ 52  11   5   5  22]\n",
      " [ 34   2  25  12  62]\n",
      " [  9   0   6 107 248]\n",
      " [ 10   0   2  26 956]]\n"
     ]
    }
   ],
   "source": [
    "from xgboost import XGBClassifier\n",
    "xg=XGBClassifier()\n",
    "xg.fit(x_train,y_train)\n",
    "y_pred=xg.predict(x_test)\n",
    "print(accuracy_score(y_test,y_pred))\n",
    "print(classification_report(y_test,y_pred))\n",
    "print(confusion_matrix(y_test,y_pred))"
   ]
  },
  {
   "cell_type": "code",
   "execution_count": null,
   "id": "17c55db2",
   "metadata": {},
   "outputs": [],
   "source": [
    "#Checking overfitting of model"
   ]
  },
  {
   "cell_type": "code",
   "execution_count": 35,
   "id": "28a9f3f7",
   "metadata": {},
   "outputs": [],
   "source": [
    "from sklearn.model_selection import cross_val_score"
   ]
  },
  {
   "cell_type": "code",
   "execution_count": 2,
   "id": "8009a62d",
   "metadata": {},
   "outputs": [],
   "source": [
    "#choosing right cv for models"
   ]
  },
  {
   "cell_type": "code",
   "execution_count": 36,
   "id": "2043ed8b",
   "metadata": {},
   "outputs": [
    {
     "name": "stdout",
     "output_type": "stream",
     "text": [
      "for 2 accuracy is 0.6076714613299978\n",
      "for 3 accuracy is 0.6343548050865123\n",
      "for 4 accuracy is 0.6380029184907234\n",
      "for 5 accuracy is 0.6399845148911418\n",
      "for 6 accuracy is 0.6483739837398373\n",
      "for 7 accuracy is 0.6497813165726536\n",
      "for 8 accuracy is 0.6583832104772596\n",
      "for 9 accuracy is 0.657285803627267\n"
     ]
    }
   ],
   "source": [
    "rf=RandomForestClassifier()\n",
    "for i in range(2,10):\n",
    "    cvscore=cross_val_score(rf,X,y,cv=i)\n",
    "    print('for',i,'accuracy is',cvscore.mean())"
   ]
  },
  {
   "cell_type": "code",
   "execution_count": 37,
   "id": "8785b684",
   "metadata": {},
   "outputs": [],
   "source": [
    "dt=DecisionTreeClassifier()\n",
    "mn=MultinomialNB()\n",
    "xg=XGBClassifier()\n",
    "rf=RandomForestClassifier()\n",
    "ad=AdaBoostClassifier()\n",
    "gb=GradientBoostingClassifier()\n",
    "lg=LogisticRegression()"
   ]
  },
  {
   "cell_type": "code",
   "execution_count": 38,
   "id": "4b986590",
   "metadata": {},
   "outputs": [],
   "source": [
    "model=[dt,mn,xg,rf,ad,gb,lg]"
   ]
  },
  {
   "cell_type": "code",
   "execution_count": 39,
   "id": "89373a9e",
   "metadata": {},
   "outputs": [
    {
     "name": "stdout",
     "output_type": "stream",
     "text": [
      "Average accuracy score of DecisionTreeClassifier() is 0.5991765686887638\n",
      "Average accuracy score of MultinomialNB() is 0.6057431728163435\n"
     ]
    },
    {
     "name": "stderr",
     "output_type": "stream",
     "text": [
      "C:\\Users\\Lenovo\\anaconda3\\lib\\site-packages\\xgboost\\sklearn.py:1146: UserWarning: The use of label encoder in XGBClassifier is deprecated and will be removed in a future release. To remove this warning, do the following: 1) Pass option use_label_encoder=False when constructing XGBClassifier object; and 2) Encode your labels (y) as integers starting with 0, i.e. 0, 1, 2, ..., [num_class - 1].\n",
      "  warnings.warn(label_encoder_deprecation_msg, UserWarning)\n"
     ]
    },
    {
     "name": "stdout",
     "output_type": "stream",
     "text": [
      "[10:52:22] WARNING: C:/Users/Administrator/workspace/xgboost-win64_release_1.4.0/src/learner.cc:1095: Starting in XGBoost 1.3.0, the default evaluation metric used with the objective 'multi:softprob' was changed from 'merror' to 'mlogloss'. Explicitly set eval_metric if you'd like to restore the old behavior.\n"
     ]
    },
    {
     "name": "stderr",
     "output_type": "stream",
     "text": [
      "C:\\Users\\Lenovo\\anaconda3\\lib\\site-packages\\xgboost\\sklearn.py:1146: UserWarning: The use of label encoder in XGBClassifier is deprecated and will be removed in a future release. To remove this warning, do the following: 1) Pass option use_label_encoder=False when constructing XGBClassifier object; and 2) Encode your labels (y) as integers starting with 0, i.e. 0, 1, 2, ..., [num_class - 1].\n",
      "  warnings.warn(label_encoder_deprecation_msg, UserWarning)\n"
     ]
    },
    {
     "name": "stdout",
     "output_type": "stream",
     "text": [
      "[10:52:40] WARNING: C:/Users/Administrator/workspace/xgboost-win64_release_1.4.0/src/learner.cc:1095: Starting in XGBoost 1.3.0, the default evaluation metric used with the objective 'multi:softprob' was changed from 'merror' to 'mlogloss'. Explicitly set eval_metric if you'd like to restore the old behavior.\n"
     ]
    },
    {
     "name": "stderr",
     "output_type": "stream",
     "text": [
      "C:\\Users\\Lenovo\\anaconda3\\lib\\site-packages\\xgboost\\sklearn.py:1146: UserWarning: The use of label encoder in XGBClassifier is deprecated and will be removed in a future release. To remove this warning, do the following: 1) Pass option use_label_encoder=False when constructing XGBClassifier object; and 2) Encode your labels (y) as integers starting with 0, i.e. 0, 1, 2, ..., [num_class - 1].\n",
      "  warnings.warn(label_encoder_deprecation_msg, UserWarning)\n"
     ]
    },
    {
     "name": "stdout",
     "output_type": "stream",
     "text": [
      "[10:52:59] WARNING: C:/Users/Administrator/workspace/xgboost-win64_release_1.4.0/src/learner.cc:1095: Starting in XGBoost 1.3.0, the default evaluation metric used with the objective 'multi:softprob' was changed from 'merror' to 'mlogloss'. Explicitly set eval_metric if you'd like to restore the old behavior.\n"
     ]
    },
    {
     "name": "stderr",
     "output_type": "stream",
     "text": [
      "C:\\Users\\Lenovo\\anaconda3\\lib\\site-packages\\xgboost\\sklearn.py:1146: UserWarning: The use of label encoder in XGBClassifier is deprecated and will be removed in a future release. To remove this warning, do the following: 1) Pass option use_label_encoder=False when constructing XGBClassifier object; and 2) Encode your labels (y) as integers starting with 0, i.e. 0, 1, 2, ..., [num_class - 1].\n",
      "  warnings.warn(label_encoder_deprecation_msg, UserWarning)\n"
     ]
    },
    {
     "name": "stdout",
     "output_type": "stream",
     "text": [
      "[10:53:20] WARNING: C:/Users/Administrator/workspace/xgboost-win64_release_1.4.0/src/learner.cc:1095: Starting in XGBoost 1.3.0, the default evaluation metric used with the objective 'multi:softprob' was changed from 'merror' to 'mlogloss'. Explicitly set eval_metric if you'd like to restore the old behavior.\n"
     ]
    },
    {
     "name": "stderr",
     "output_type": "stream",
     "text": [
      "C:\\Users\\Lenovo\\anaconda3\\lib\\site-packages\\xgboost\\sklearn.py:1146: UserWarning: The use of label encoder in XGBClassifier is deprecated and will be removed in a future release. To remove this warning, do the following: 1) Pass option use_label_encoder=False when constructing XGBClassifier object; and 2) Encode your labels (y) as integers starting with 0, i.e. 0, 1, 2, ..., [num_class - 1].\n",
      "  warnings.warn(label_encoder_deprecation_msg, UserWarning)\n"
     ]
    },
    {
     "name": "stdout",
     "output_type": "stream",
     "text": [
      "[10:53:42] WARNING: C:/Users/Administrator/workspace/xgboost-win64_release_1.4.0/src/learner.cc:1095: Starting in XGBoost 1.3.0, the default evaluation metric used with the objective 'multi:softprob' was changed from 'merror' to 'mlogloss'. Explicitly set eval_metric if you'd like to restore the old behavior.\n"
     ]
    },
    {
     "name": "stderr",
     "output_type": "stream",
     "text": [
      "C:\\Users\\Lenovo\\anaconda3\\lib\\site-packages\\xgboost\\sklearn.py:1146: UserWarning: The use of label encoder in XGBClassifier is deprecated and will be removed in a future release. To remove this warning, do the following: 1) Pass option use_label_encoder=False when constructing XGBClassifier object; and 2) Encode your labels (y) as integers starting with 0, i.e. 0, 1, 2, ..., [num_class - 1].\n",
      "  warnings.warn(label_encoder_deprecation_msg, UserWarning)\n"
     ]
    },
    {
     "name": "stdout",
     "output_type": "stream",
     "text": [
      "[10:54:03] WARNING: C:/Users/Administrator/workspace/xgboost-win64_release_1.4.0/src/learner.cc:1095: Starting in XGBoost 1.3.0, the default evaluation metric used with the objective 'multi:softprob' was changed from 'merror' to 'mlogloss'. Explicitly set eval_metric if you'd like to restore the old behavior.\n"
     ]
    },
    {
     "name": "stderr",
     "output_type": "stream",
     "text": [
      "C:\\Users\\Lenovo\\anaconda3\\lib\\site-packages\\xgboost\\sklearn.py:1146: UserWarning: The use of label encoder in XGBClassifier is deprecated and will be removed in a future release. To remove this warning, do the following: 1) Pass option use_label_encoder=False when constructing XGBClassifier object; and 2) Encode your labels (y) as integers starting with 0, i.e. 0, 1, 2, ..., [num_class - 1].\n",
      "  warnings.warn(label_encoder_deprecation_msg, UserWarning)\n"
     ]
    },
    {
     "name": "stdout",
     "output_type": "stream",
     "text": [
      "[10:54:29] WARNING: C:/Users/Administrator/workspace/xgboost-win64_release_1.4.0/src/learner.cc:1095: Starting in XGBoost 1.3.0, the default evaluation metric used with the objective 'multi:softprob' was changed from 'merror' to 'mlogloss'. Explicitly set eval_metric if you'd like to restore the old behavior.\n"
     ]
    },
    {
     "name": "stderr",
     "output_type": "stream",
     "text": [
      "C:\\Users\\Lenovo\\anaconda3\\lib\\site-packages\\xgboost\\sklearn.py:1146: UserWarning: The use of label encoder in XGBClassifier is deprecated and will be removed in a future release. To remove this warning, do the following: 1) Pass option use_label_encoder=False when constructing XGBClassifier object; and 2) Encode your labels (y) as integers starting with 0, i.e. 0, 1, 2, ..., [num_class - 1].\n",
      "  warnings.warn(label_encoder_deprecation_msg, UserWarning)\n"
     ]
    },
    {
     "name": "stdout",
     "output_type": "stream",
     "text": [
      "[10:54:52] WARNING: C:/Users/Administrator/workspace/xgboost-win64_release_1.4.0/src/learner.cc:1095: Starting in XGBoost 1.3.0, the default evaluation metric used with the objective 'multi:softprob' was changed from 'merror' to 'mlogloss'. Explicitly set eval_metric if you'd like to restore the old behavior.\n"
     ]
    },
    {
     "name": "stderr",
     "output_type": "stream",
     "text": [
      "C:\\Users\\Lenovo\\anaconda3\\lib\\site-packages\\xgboost\\sklearn.py:1146: UserWarning: The use of label encoder in XGBClassifier is deprecated and will be removed in a future release. To remove this warning, do the following: 1) Pass option use_label_encoder=False when constructing XGBClassifier object; and 2) Encode your labels (y) as integers starting with 0, i.e. 0, 1, 2, ..., [num_class - 1].\n",
      "  warnings.warn(label_encoder_deprecation_msg, UserWarning)\n"
     ]
    },
    {
     "name": "stdout",
     "output_type": "stream",
     "text": [
      "[10:55:16] WARNING: C:/Users/Administrator/workspace/xgboost-win64_release_1.4.0/src/learner.cc:1095: Starting in XGBoost 1.3.0, the default evaluation metric used with the objective 'multi:softprob' was changed from 'merror' to 'mlogloss'. Explicitly set eval_metric if you'd like to restore the old behavior.\n",
      "Average accuracy score of XGBClassifier(base_score=None, booster=None, colsample_bylevel=None,\n",
      "              colsample_bynode=None, colsample_bytree=None, gamma=None,\n",
      "              gpu_id=None, importance_type='gain', interaction_constraints=None,\n",
      "              learning_rate=None, max_delta_step=None, max_depth=None,\n",
      "              min_child_weight=None, missing=nan, monotone_constraints=None,\n",
      "              n_estimators=100, n_jobs=None, num_parallel_tree=None,\n",
      "              random_state=None, reg_alpha=None, reg_lambda=None,\n",
      "              scale_pos_weight=None, subsample=None, tree_method=None,\n",
      "              validate_parameters=None, verbosity=None) is 0.6327913279132791\n",
      "Average accuracy score of RandomForestClassifier() is 0.6579111944965603\n",
      "Average accuracy score of AdaBoostClassifier() is 0.6166353971232019\n",
      "Average accuracy score of GradientBoostingClassifier() is 0.6277882009589326\n"
     ]
    },
    {
     "name": "stderr",
     "output_type": "stream",
     "text": [
      "C:\\Users\\Lenovo\\anaconda3\\lib\\site-packages\\sklearn\\linear_model\\_logistic.py:763: ConvergenceWarning: lbfgs failed to converge (status=1):\n",
      "STOP: TOTAL NO. of ITERATIONS REACHED LIMIT.\n",
      "\n",
      "Increase the number of iterations (max_iter) or scale the data as shown in:\n",
      "    https://scikit-learn.org/stable/modules/preprocessing.html\n",
      "Please also refer to the documentation for alternative solver options:\n",
      "    https://scikit-learn.org/stable/modules/linear_model.html#logistic-regression\n",
      "  n_iter_i = _check_optimize_result(\n",
      "C:\\Users\\Lenovo\\anaconda3\\lib\\site-packages\\sklearn\\linear_model\\_logistic.py:763: ConvergenceWarning: lbfgs failed to converge (status=1):\n",
      "STOP: TOTAL NO. of ITERATIONS REACHED LIMIT.\n",
      "\n",
      "Increase the number of iterations (max_iter) or scale the data as shown in:\n",
      "    https://scikit-learn.org/stable/modules/preprocessing.html\n",
      "Please also refer to the documentation for alternative solver options:\n",
      "    https://scikit-learn.org/stable/modules/linear_model.html#logistic-regression\n",
      "  n_iter_i = _check_optimize_result(\n",
      "C:\\Users\\Lenovo\\anaconda3\\lib\\site-packages\\sklearn\\linear_model\\_logistic.py:763: ConvergenceWarning: lbfgs failed to converge (status=1):\n",
      "STOP: TOTAL NO. of ITERATIONS REACHED LIMIT.\n",
      "\n",
      "Increase the number of iterations (max_iter) or scale the data as shown in:\n",
      "    https://scikit-learn.org/stable/modules/preprocessing.html\n",
      "Please also refer to the documentation for alternative solver options:\n",
      "    https://scikit-learn.org/stable/modules/linear_model.html#logistic-regression\n",
      "  n_iter_i = _check_optimize_result(\n",
      "C:\\Users\\Lenovo\\anaconda3\\lib\\site-packages\\sklearn\\linear_model\\_logistic.py:763: ConvergenceWarning: lbfgs failed to converge (status=1):\n",
      "STOP: TOTAL NO. of ITERATIONS REACHED LIMIT.\n",
      "\n",
      "Increase the number of iterations (max_iter) or scale the data as shown in:\n",
      "    https://scikit-learn.org/stable/modules/preprocessing.html\n",
      "Please also refer to the documentation for alternative solver options:\n",
      "    https://scikit-learn.org/stable/modules/linear_model.html#logistic-regression\n",
      "  n_iter_i = _check_optimize_result(\n",
      "C:\\Users\\Lenovo\\anaconda3\\lib\\site-packages\\sklearn\\linear_model\\_logistic.py:763: ConvergenceWarning: lbfgs failed to converge (status=1):\n",
      "STOP: TOTAL NO. of ITERATIONS REACHED LIMIT.\n",
      "\n",
      "Increase the number of iterations (max_iter) or scale the data as shown in:\n",
      "    https://scikit-learn.org/stable/modules/preprocessing.html\n",
      "Please also refer to the documentation for alternative solver options:\n",
      "    https://scikit-learn.org/stable/modules/linear_model.html#logistic-regression\n",
      "  n_iter_i = _check_optimize_result(\n",
      "C:\\Users\\Lenovo\\anaconda3\\lib\\site-packages\\sklearn\\linear_model\\_logistic.py:763: ConvergenceWarning: lbfgs failed to converge (status=1):\n",
      "STOP: TOTAL NO. of ITERATIONS REACHED LIMIT.\n",
      "\n",
      "Increase the number of iterations (max_iter) or scale the data as shown in:\n",
      "    https://scikit-learn.org/stable/modules/preprocessing.html\n",
      "Please also refer to the documentation for alternative solver options:\n",
      "    https://scikit-learn.org/stable/modules/linear_model.html#logistic-regression\n",
      "  n_iter_i = _check_optimize_result(\n",
      "C:\\Users\\Lenovo\\anaconda3\\lib\\site-packages\\sklearn\\linear_model\\_logistic.py:763: ConvergenceWarning: lbfgs failed to converge (status=1):\n",
      "STOP: TOTAL NO. of ITERATIONS REACHED LIMIT.\n",
      "\n",
      "Increase the number of iterations (max_iter) or scale the data as shown in:\n",
      "    https://scikit-learn.org/stable/modules/preprocessing.html\n",
      "Please also refer to the documentation for alternative solver options:\n",
      "    https://scikit-learn.org/stable/modules/linear_model.html#logistic-regression\n",
      "  n_iter_i = _check_optimize_result(\n",
      "C:\\Users\\Lenovo\\anaconda3\\lib\\site-packages\\sklearn\\linear_model\\_logistic.py:763: ConvergenceWarning: lbfgs failed to converge (status=1):\n",
      "STOP: TOTAL NO. of ITERATIONS REACHED LIMIT.\n",
      "\n",
      "Increase the number of iterations (max_iter) or scale the data as shown in:\n",
      "    https://scikit-learn.org/stable/modules/preprocessing.html\n",
      "Please also refer to the documentation for alternative solver options:\n",
      "    https://scikit-learn.org/stable/modules/linear_model.html#logistic-regression\n",
      "  n_iter_i = _check_optimize_result(\n"
     ]
    },
    {
     "name": "stdout",
     "output_type": "stream",
     "text": [
      "Average accuracy score of LogisticRegression() is 0.6367000208463623\n"
     ]
    },
    {
     "name": "stderr",
     "output_type": "stream",
     "text": [
      "C:\\Users\\Lenovo\\anaconda3\\lib\\site-packages\\sklearn\\linear_model\\_logistic.py:763: ConvergenceWarning: lbfgs failed to converge (status=1):\n",
      "STOP: TOTAL NO. of ITERATIONS REACHED LIMIT.\n",
      "\n",
      "Increase the number of iterations (max_iter) or scale the data as shown in:\n",
      "    https://scikit-learn.org/stable/modules/preprocessing.html\n",
      "Please also refer to the documentation for alternative solver options:\n",
      "    https://scikit-learn.org/stable/modules/linear_model.html#logistic-regression\n",
      "  n_iter_i = _check_optimize_result(\n"
     ]
    }
   ],
   "source": [
    "for i in model:\n",
    "    cvscore=cross_val_score(i,X,y,cv=9)\n",
    "    print('Average accuracy score of',i,'is',cvscore.mean())"
   ]
  },
  {
   "cell_type": "code",
   "execution_count": 3,
   "id": "df124eed",
   "metadata": {},
   "outputs": [],
   "source": [
    "#we see that Randomforestclassifier is good model.We have to hypertune it by using GridSearchCV"
   ]
  },
  {
   "cell_type": "markdown",
   "id": "e64fb53b",
   "metadata": {},
   "source": [
    "Hyperparameter tuning"
   ]
  },
  {
   "cell_type": "code",
   "execution_count": 40,
   "id": "8e3dbbdd",
   "metadata": {},
   "outputs": [],
   "source": [
    "from sklearn.model_selection import GridSearchCV"
   ]
  },
  {
   "cell_type": "code",
   "execution_count": 41,
   "id": "93e22475",
   "metadata": {},
   "outputs": [],
   "source": [
    "parameter={'criterion':['gini','entropy'],'max_features':['auto','sqrt','log2']}"
   ]
  },
  {
   "cell_type": "code",
   "execution_count": 42,
   "id": "1bf81493",
   "metadata": {},
   "outputs": [
    {
     "data": {
      "text/plain": [
       "{'criterion': 'entropy', 'max_features': 'auto'}"
      ]
     },
     "execution_count": 42,
     "metadata": {},
     "output_type": "execute_result"
    }
   ],
   "source": [
    "rf=RandomForestClassifier()\n",
    "gscv=GridSearchCV(rf,parameter,cv=9)\n",
    "gscv.fit(X,y)\n",
    "gscv.best_params_"
   ]
  },
  {
   "cell_type": "code",
   "execution_count": 43,
   "id": "c1175973",
   "metadata": {},
   "outputs": [
    {
     "data": {
      "text/plain": [
       "RandomForestClassifier(criterion='entropy')"
      ]
     },
     "execution_count": 43,
     "metadata": {},
     "output_type": "execute_result"
    }
   ],
   "source": [
    "gscv.best_estimator_"
   ]
  },
  {
   "cell_type": "code",
   "execution_count": 46,
   "id": "99d064a4",
   "metadata": {},
   "outputs": [
    {
     "name": "stdout",
     "output_type": "stream",
     "text": [
      "0.7561229807191245\n",
      "              precision    recall  f1-score   support\n",
      "\n",
      "           1       0.75      0.92      0.83       325\n",
      "           2       0.79      0.28      0.42        95\n",
      "           3       0.67      0.27      0.39       135\n",
      "           4       0.83      0.34      0.48       370\n",
      "           5       0.75      0.97      0.85       994\n",
      "\n",
      "    accuracy                           0.76      1919\n",
      "   macro avg       0.76      0.56      0.59      1919\n",
      "weighted avg       0.76      0.76      0.72      1919\n",
      "\n",
      "[[300   3   2   2  18]\n",
      " [ 47  27   6   1  14]\n",
      " [ 31   4  37   6  57]\n",
      " [  9   0   6 126 229]\n",
      " [ 13   0   4  16 961]]\n"
     ]
    }
   ],
   "source": [
    "rf=RandomForestClassifier(criterion= 'entropy',max_features= 'auto')\n",
    "rf.fit(x_train,y_train)\n",
    "y_pred=rf.predict(x_test)\n",
    "print(accuracy_score(y_test,y_pred))\n",
    "print(classification_report(y_test,y_pred))\n",
    "print(confusion_matrix(y_test,y_pred))"
   ]
  },
  {
   "cell_type": "markdown",
   "id": "4892b360",
   "metadata": {},
   "source": [
    "# Saving Model"
   ]
  },
  {
   "cell_type": "code",
   "execution_count": 47,
   "id": "65c0152e",
   "metadata": {},
   "outputs": [
    {
     "data": {
      "text/plain": [
       "['reviews.obj']"
      ]
     },
     "execution_count": 47,
     "metadata": {},
     "output_type": "execute_result"
    }
   ],
   "source": [
    "import joblib#saving model\n",
    "joblib.dump(rf,'reviews.obj')"
   ]
  },
  {
   "cell_type": "code",
   "execution_count": null,
   "id": "abe7c724",
   "metadata": {},
   "outputs": [],
   "source": []
  }
 ],
 "metadata": {
  "kernelspec": {
   "display_name": "Python 3",
   "language": "python",
   "name": "python3"
  },
  "language_info": {
   "codemirror_mode": {
    "name": "ipython",
    "version": 3
   },
   "file_extension": ".py",
   "mimetype": "text/x-python",
   "name": "python",
   "nbconvert_exporter": "python",
   "pygments_lexer": "ipython3",
   "version": "3.8.8"
  }
 },
 "nbformat": 4,
 "nbformat_minor": 5
}
